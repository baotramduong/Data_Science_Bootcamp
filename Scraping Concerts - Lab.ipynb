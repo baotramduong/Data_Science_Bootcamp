{
 "cells": [
  {
   "cell_type": "markdown",
   "metadata": {},
   "source": [
    "# Scraping Concerts - Lab\n",
    "\n",
    "## Introduction\n",
    "\n",
    "Now that you've seen how to scrape a simple website, it's time to again practice those skills on a full-fledged site!\n",
    "In this lab, you'll practice your scraping skills on a music website: https://www.residentadvisor.net.\n",
    "## Objectives\n",
    "\n",
    "You will be able to:\n",
    "* Create a full scraping pipeline that involves traversing over many pages of a website, dealing with errors and storing data"
   ]
  },
  {
   "cell_type": "markdown",
   "metadata": {},
   "source": [
    "## View the Website\n",
    "\n",
    "For this lab, you'll be scraping the https://www.residentadvisor.net website. Start by navigating to the events page [here](https://www.residentadvisor.net/events) in your browser.\n",
    "\n",
    "<img src=\"images/ra.png\">"
   ]
  },
  {
   "cell_type": "code",
   "execution_count": 3,
   "metadata": {},
   "outputs": [],
   "source": [
    "# Load the https://www.residentadvisor.net/events page in your browser.\n",
    "import pandas as pd\n",
    "import numpy as np\n",
    "import requests \n",
    "from bs4 import BeautifulSoup\n",
    "import re\n"
   ]
  },
  {
   "cell_type": "code",
   "execution_count": 84,
   "metadata": {
    "scrolled": false
   },
   "outputs": [],
   "source": [
    "url = 'https://www.residentadvisor.net/events/us/newyork'\n",
    "html_page = requests.get('https://www.residentadvisor.net/events/us/newyork')\n",
    "soup = BeautifulSoup(html_page.content, 'html.parser')\n"
   ]
  },
  {
   "cell_type": "markdown",
   "metadata": {},
   "source": [
    "## Open the Inspect Element Feature\n",
    "\n",
    "Next, open the inspect element feature from your web browser in order to preview the underlying HTML associated with the page."
   ]
  },
  {
   "cell_type": "code",
   "execution_count": 85,
   "metadata": {},
   "outputs": [],
   "source": [
    "# Open the inspect element feature in your browser"
   ]
  },
  {
   "cell_type": "markdown",
   "metadata": {},
   "source": [
    "## Write a Function to Scrape all of the Events on the Given Page Events Page\n",
    "\n",
    "The function should return a Pandas DataFrame with columns for the Event_Name, Venue, Event_Date and Number_of_Attendees."
   ]
  },
  {
   "cell_type": "code",
   "execution_count": 86,
   "metadata": {},
   "outputs": [
    {
     "data": {
      "text/plain": [
       "[<li><p class=\"eventDate date\"><a href=\"/events.aspx?ai=8&amp;v=day&amp;mn=11&amp;yr=2020&amp;dy=25\"><span>Wed, 25 Nov 2020 /</span></a></p></li>,\n",
       " <li class=\"\"><article class=\"event-item clearfix\" itemscope=\"\" itemtype=\"http://data-vocabulary.org/Event\"><span style=\"display:none;\"><time datetime=\"2020-11-25T00:00\" itemprop=\"startDate\">2020-11-25T00:00</time></span><a href=\"/events/1430723\"><img height=\"76\" src=\"/images/events/flyer/2020/11/us-1120-1430723-list.jpg\" width=\"152\"/></a><div class=\"bbox\"><h1 class=\"event-title\" itemprop=\"summary\"><a href=\"/events/1430723\" itemprop=\"url\" title=\"Event details of Unter Baths: A Holiday Merch Drop\">Unter Baths: A Holiday Merch Drop</a> <span>at <span class=\"grey\" style=\"display:inline;\">Unter Baths</span></span></h1><div class=\"grey event-lineup\">Volvox</div><p class=\"attending\"><span>1</span> Attending</p></div></article></li>,\n",
       " <li><p class=\"eventDate date\"><a href=\"/events.aspx?ai=8&amp;v=day&amp;mn=11&amp;yr=2020&amp;dy=26\"><span>Thu, 26 Nov 2020 /</span></a></p></li>,\n",
       " <li class=\"\"><article class=\"event-item clearfix\" itemscope=\"\" itemtype=\"http://data-vocabulary.org/Event\"><span style=\"display:none;\"><time datetime=\"2020-11-26T00:00\" itemprop=\"startDate\">2020-11-26T00:00</time></span><a href=\"/events/1430723\"><img height=\"76\" src=\"/images/events/flyer/2020/11/us-1120-1430723-list.jpg\" width=\"152\"/></a><div class=\"bbox\"><h1 class=\"event-title\" itemprop=\"summary\"><a href=\"/events/1430723\" itemprop=\"url\" title=\"Event details of Unter Baths: A Holiday Merch Drop\">Unter Baths: A Holiday Merch Drop</a> <span>at <span class=\"grey\" style=\"display:inline;\">Unter Baths</span></span></h1><div class=\"grey event-lineup\">Volvox</div><p class=\"attending\"><span>1</span> Attending</p></div></article></li>,\n",
       " <li><p class=\"eventDate date\"><a href=\"/events.aspx?ai=8&amp;v=day&amp;mn=11&amp;yr=2020&amp;dy=27\"><span>Fri, 27 Nov 2020 /</span></a></p></li>,\n",
       " <li class=\"\"><article class=\"event-item clearfix\" itemscope=\"\" itemtype=\"http://data-vocabulary.org/Event\"><span style=\"display:none;\"><time datetime=\"2020-11-27T00:00\" itemprop=\"startDate\">2020-11-27T00:00</time></span><a href=\"/events/1430919\"><img height=\"76\" src=\"/images/events/flyer/2020/11/us-1127-1430919-list.jpg\" width=\"152\"/></a><div class=\"bbox\"><h1 class=\"event-title\" itemprop=\"summary\"><a href=\"/events/1430919\" itemprop=\"url\" title=\"Event details of Bugs Bunny Thanksgiving Secret Speakeasy \">Bugs Bunny Thanksgiving Secret Speakeasy </a> <span>at <span class=\"grey\" style=\"display:inline;\">The Museum of Interesting Things</span></span></h1><div class=\"grey event-lineup\">denny daniel</div><p class=\"attending\"><span>2</span> Attending</p></div></article></li>,\n",
       " <li class=\"\"><article class=\"event-item clearfix\" itemscope=\"\" itemtype=\"http://data-vocabulary.org/Event\"><span style=\"display:none;\"><time datetime=\"2020-11-27T00:00\" itemprop=\"startDate\">2020-11-27T00:00</time></span><a href=\"/events/1430723\"><img height=\"76\" src=\"/images/events/flyer/2020/11/us-1120-1430723-list.jpg\" width=\"152\"/></a><div class=\"bbox\"><h1 class=\"event-title\" itemprop=\"summary\"><a href=\"/events/1430723\" itemprop=\"url\" title=\"Event details of Unter Baths: A Holiday Merch Drop\">Unter Baths: A Holiday Merch Drop</a> <span>at <span class=\"grey\" style=\"display:inline;\">Unter Baths</span></span></h1><div class=\"grey event-lineup\">Volvox</div><p class=\"attending\"><span>1</span> Attending</p></div></article></li>,\n",
       " <li class=\"\"><article class=\"event-item clearfix\" itemscope=\"\" itemtype=\"http://data-vocabulary.org/Event\"><span style=\"display:none;\"><time datetime=\"2020-11-27T00:00\" itemprop=\"startDate\">2020-11-27T00:00</time></span><a href=\"/events/1430310\"><img height=\"76\" src=\"/images/events/flyer/2020/11/us-1127-1430310-list.jpg\" width=\"152\"/></a><div class=\"bbox\"><h1 class=\"event-title\" itemprop=\"summary\"><a href=\"/events/1430310\" itemprop=\"url\" title=\"Event details of Whatever. - Sean Cormac &amp; Chili Davis, Ruez\">Whatever. - Sean Cormac &amp; Chili Davis, Ruez</a> <span>at <a href=\"/club.aspx?id=75374\">TBA Brooklyn</a></span></h1><div class=\"grey event-lineup\">Sean Cormac, Chili Davis, Ruez.</div><p class=\"attending\"><span>1</span> Attending</p></div></article></li>,\n",
       " <li><p class=\"eventDate date\"><a href=\"/events.aspx?ai=8&amp;v=day&amp;mn=11&amp;yr=2020&amp;dy=28\"><span>Sat, 28 Nov 2020 /</span></a></p></li>,\n",
       " <li class=\"\"><article class=\"event-item clearfix tickets-bkg-logo\" itemscope=\"\" itemtype=\"http://data-vocabulary.org/Event\"><a href=\"/events/1429692#tickets\"><img class=\"nohide\" src=\"https://residentadvisor.net/images/ra-tix.png\" style=\"height: 23px; width: 40px; right: 0px; position: absolute; top: 1px;\"/></a><span style=\"display:none;\"><time datetime=\"2020-11-28T00:00\" itemprop=\"startDate\">2020-11-28T00:00</time></span><a href=\"/events/1429692\"><img height=\"76\" src=\"/images/events/flyer/2020/11/us-1128-1429692-list.jpg\" width=\"152\"/></a><div class=\"bbox\"><h1 class=\"event-title\" itemprop=\"summary\"><a href=\"/events/1429692\" itemprop=\"url\" title=\"Event details of NY Hip Hop vs Reggae® Synset Cruise Skyport Marina Cabana Yacht\">NY Hip Hop vs Reggae® Synset Cruise Skyport Marina Cabana Yacht</a> <span>at <a href=\"/club.aspx?id=104916\">Skyport Marina</a></span></h1><div class=\"grey event-lineup\">NYC TOP DJS</div><p class=\"attending\"><span>1</span> Attending</p></div></article></li>,\n",
       " <li class=\"\"><article class=\"event-item clearfix\" itemscope=\"\" itemtype=\"http://data-vocabulary.org/Event\"><span style=\"display:none;\"><time datetime=\"2020-11-28T00:00\" itemprop=\"startDate\">2020-11-28T00:00</time></span><a href=\"/events/1430434\"><img height=\"76\" src=\"/images/events/flyer/2020/11/us-1128-1430434-list.jpg\" width=\"152\"/></a><div class=\"bbox\"><h1 class=\"event-title\" itemprop=\"summary\"><a href=\"/events/1430434\" itemprop=\"url\" title=\"Event details of White Rabbit - Desert Rabbit\">White Rabbit - Desert Rabbit</a> <span>at <span class=\"grey\" style=\"display:inline;\">Secret Location</span></span></h1><div class=\"grey event-lineup\">Secret Line Up !</div><p class=\"attending\"><span>4</span> Attending</p></div></article></li>,\n",
       " <li class=\"\"><article class=\"event-item clearfix\" itemscope=\"\" itemtype=\"http://data-vocabulary.org/Event\"><span style=\"display:none;\"><time datetime=\"2020-11-28T00:00\" itemprop=\"startDate\">2020-11-28T00:00</time></span><a href=\"/events/1430919\"><img height=\"76\" src=\"/images/events/flyer/2020/11/us-1127-1430919-list.jpg\" width=\"152\"/></a><div class=\"bbox\"><h1 class=\"event-title\" itemprop=\"summary\"><a href=\"/events/1430919\" itemprop=\"url\" title=\"Event details of Bugs Bunny Thanksgiving Secret Speakeasy \">Bugs Bunny Thanksgiving Secret Speakeasy </a> <span>at <span class=\"grey\" style=\"display:inline;\">The Museum of Interesting Things</span></span></h1><div class=\"grey event-lineup\">denny daniel</div><p class=\"attending\"><span>2</span> Attending</p></div></article></li>,\n",
       " <li class=\"\"><article class=\"event-item clearfix\" itemscope=\"\" itemtype=\"http://data-vocabulary.org/Event\"><span style=\"display:none;\"><time datetime=\"2020-11-28T00:00\" itemprop=\"startDate\">2020-11-28T00:00</time></span><a href=\"/events/1430723\"><img height=\"76\" src=\"/images/events/flyer/2020/11/us-1120-1430723-list.jpg\" width=\"152\"/></a><div class=\"bbox\"><h1 class=\"event-title\" itemprop=\"summary\"><a href=\"/events/1430723\" itemprop=\"url\" title=\"Event details of Unter Baths: A Holiday Merch Drop\">Unter Baths: A Holiday Merch Drop</a> <span>at <span class=\"grey\" style=\"display:inline;\">Unter Baths</span></span></h1><div class=\"grey event-lineup\">Volvox</div><p class=\"attending\"><span>1</span> Attending</p></div></article></li>,\n",
       " <li><div class=\"but myra mt16\" style=\"width: 152px;\"><a href=\"/submit-event.aspx?ai=8\">Submit event</a></div></li>,\n",
       " <li><p class=\"eventDate date\"><a href=\"/events.aspx?ai=8&amp;v=day&amp;mn=11&amp;yr=2020&amp;dy=29\"><span>Sun, 29 Nov 2020 /</span></a></p></li>,\n",
       " <li class=\"\"><article class=\"event-item clearfix tickets-bkg-logo\" itemscope=\"\" itemtype=\"http://data-vocabulary.org/Event\"><a href=\"/events/1430544#tickets\"><img class=\"nohide\" src=\"https://residentadvisor.net/images/ra-tix.png\" style=\"height: 23px; width: 40px; right: 0px; position: absolute; top: 1px;\"/></a><span style=\"display:none;\"><time datetime=\"2020-11-29T00:00\" itemprop=\"startDate\">2020-11-29T00:00</time></span><a href=\"/events/1430544\"><img height=\"76\" src=\"/images/events/flyer/2020/11/us-1129-1430544-list.jpg\" width=\"152\"/></a><div class=\"bbox\"><h1 class=\"event-title\" itemprop=\"summary\"><a href=\"/events/1430544\" itemprop=\"url\" title=\"Event details of Taj Lounge NYC Sunday Funday Hip Hop vs. Reggae® Brunch &amp; Day Party\">Taj Lounge NYC Sunday Funday Hip Hop vs. Reggae® Brunch &amp; Day Party</a> <span>at <a href=\"/club.aspx?id=29869\">Taj Lounge</a></span></h1><div class=\"grey event-lineup\">nyc top djs</div><p class=\"attending\"><span>1</span> Attending</p></div></article></li>,\n",
       " <li><p class=\"eventDate date\"><a href=\"/events.aspx?ai=8&amp;v=day&amp;mn=11&amp;yr=2020&amp;dy=30\"><span>Mon, 30 Nov 2020 /</span></a></p></li>,\n",
       " <li class=\"\"><article class=\"event-item clearfix tickets-bkg-logo\" itemscope=\"\" itemtype=\"http://data-vocabulary.org/Event\"><a href=\"/events/1430544#tickets\"><img class=\"nohide\" src=\"https://residentadvisor.net/images/ra-tix.png\" style=\"height: 23px; width: 40px; right: 0px; position: absolute; top: 1px;\"/></a><span style=\"display:none;\"><time datetime=\"2020-11-30T00:00\" itemprop=\"startDate\">2020-11-30T00:00</time></span><a href=\"/events/1430544\"><img height=\"76\" src=\"/images/events/flyer/2020/11/us-1129-1430544-list.jpg\" width=\"152\"/></a><div class=\"bbox\"><h1 class=\"event-title\" itemprop=\"summary\"><a href=\"/events/1430544\" itemprop=\"url\" title=\"Event details of Taj Lounge NYC Sunday Funday Hip Hop vs. Reggae® Brunch &amp; Day Party\">Taj Lounge NYC Sunday Funday Hip Hop vs. Reggae® Brunch &amp; Day Party</a> <span>at <a href=\"/club.aspx?id=29869\">Taj Lounge</a></span></h1><div class=\"grey event-lineup\">nyc top djs</div><p class=\"attending\"><span>1</span> Attending</p></div></article></li>]"
      ]
     },
     "execution_count": 86,
     "metadata": {},
     "output_type": "execute_result"
    }
   ],
   "source": [
    "soup.find('div', id='event-listing').findAll('li')"
   ]
  },
  {
   "cell_type": "code",
   "execution_count": 87,
   "metadata": {},
   "outputs": [
    {
     "data": {
      "text/plain": [
       "<li><p class=\"eventDate date\"><a href=\"/events.aspx?ai=8&amp;v=day&amp;mn=11&amp;yr=2020&amp;dy=25\"><span>Wed, 25 Nov 2020 /</span></a></p></li>"
      ]
     },
     "execution_count": 87,
     "metadata": {},
     "output_type": "execute_result"
    }
   ],
   "source": [
    "soup.find('div', id='event-listing').findAll('li')[0]"
   ]
  },
  {
   "cell_type": "code",
   "execution_count": 88,
   "metadata": {},
   "outputs": [
    {
     "data": {
      "text/plain": [
       "'Wed, 25 Nov 2020 /'"
      ]
     },
     "execution_count": 88,
     "metadata": {},
     "output_type": "execute_result"
    }
   ],
   "source": [
    "soup.find('div', id='event-listing').findAll('li')[0].text"
   ]
  },
  {
   "cell_type": "code",
   "execution_count": 89,
   "metadata": {},
   "outputs": [
    {
     "data": {
      "text/plain": [
       "'Wed, 25 Nov 2020 '"
      ]
     },
     "execution_count": 89,
     "metadata": {},
     "output_type": "execute_result"
    }
   ],
   "source": [
    "soup.find('div', id='event-listing').findAll('li')[0].text.replace('/', '')"
   ]
  },
  {
   "cell_type": "code",
   "execution_count": 90,
   "metadata": {},
   "outputs": [
    {
     "data": {
      "text/plain": [
       "'Wed, 25 Nov 2020'"
      ]
     },
     "execution_count": 90,
     "metadata": {},
     "output_type": "execute_result"
    }
   ],
   "source": [
    "soup.find('div', id='event-listing').findAll('li')[0].text.replace('/', '').strip()"
   ]
  },
  {
   "cell_type": "code",
   "execution_count": 91,
   "metadata": {
    "scrolled": true
   },
   "outputs": [
    {
     "data": {
      "text/plain": [
       "<p class=\"eventDate date\"><a href=\"/events.aspx?ai=8&amp;v=day&amp;mn=11&amp;yr=2020&amp;dy=25\"><span>Wed, 25 Nov 2020 /</span></a></p>"
      ]
     },
     "execution_count": 91,
     "metadata": {},
     "output_type": "execute_result"
    }
   ],
   "source": [
    "soup.find('div', id='event-listing').findAll('li')[0].find(class_='eventDate date')"
   ]
  },
  {
   "cell_type": "code",
   "execution_count": 92,
   "metadata": {},
   "outputs": [
    {
     "name": "stdout",
     "output_type": "stream",
     "text": [
      "Wed, 25 Nov 2020\n",
      "Thu, 26 Nov 2020\n",
      "Fri, 27 Nov 2020\n",
      "Sat, 28 Nov 2020\n",
      "Sun, 29 Nov 2020\n",
      "Mon, 30 Nov 2020\n"
     ]
    }
   ],
   "source": [
    "for x in soup.find('div', id='event-listing').findAll('li'):\n",
    "    if x.find(class_='eventDate date'):\n",
    "        print(x.text.replace('/', '').strip())"
   ]
  },
  {
   "cell_type": "code",
   "execution_count": 93,
   "metadata": {
    "scrolled": true
   },
   "outputs": [
    {
     "data": {
      "text/plain": [
       "<a href=\"/events/1430723\" itemprop=\"url\" title=\"Event details of Unter Baths: A Holiday Merch Drop\">Unter Baths: A Holiday Merch Drop</a>"
      ]
     },
     "execution_count": 93,
     "metadata": {},
     "output_type": "execute_result"
    }
   ],
   "source": [
    "soup.find('div', id='event-listing').findAll('li')[1].find(class_='event-item clearfix').find(class_='event-title').find('a')"
   ]
  },
  {
   "cell_type": "code",
   "execution_count": 94,
   "metadata": {},
   "outputs": [
    {
     "data": {
      "text/plain": [
       "'Unter Baths: A Holiday Merch Drop'"
      ]
     },
     "execution_count": 94,
     "metadata": {},
     "output_type": "execute_result"
    }
   ],
   "source": [
    "soup.find('div', id='event-listing').findAll('li')[1].find(class_='event-item clearfix').find(class_='event-title').find('a').text"
   ]
  },
  {
   "cell_type": "code",
   "execution_count": 95,
   "metadata": {
    "scrolled": true
   },
   "outputs": [
    {
     "name": "stdout",
     "output_type": "stream",
     "text": [
      "Wed, 25 Nov 2020\n",
      "Unter Baths: A Holiday Merch Drop\n",
      "Thu, 26 Nov 2020\n",
      "Unter Baths: A Holiday Merch Drop\n",
      "Fri, 27 Nov 2020\n",
      "Bugs Bunny Thanksgiving Secret Speakeasy \n",
      "Unter Baths: A Holiday Merch Drop\n",
      "Whatever. - Sean Cormac & Chili Davis, Ruez\n",
      "Sat, 28 Nov 2020\n",
      "NY Hip Hop vs Reggae® Synset Cruise Skyport Marina Cabana Yacht\n",
      "White Rabbit - Desert Rabbit\n",
      "Bugs Bunny Thanksgiving Secret Speakeasy \n",
      "Unter Baths: A Holiday Merch Drop\n",
      "Sun, 29 Nov 2020\n",
      "Taj Lounge NYC Sunday Funday Hip Hop vs. Reggae® Brunch & Day Party\n",
      "Mon, 30 Nov 2020\n",
      "Taj Lounge NYC Sunday Funday Hip Hop vs. Reggae® Brunch & Day Party\n"
     ]
    }
   ],
   "source": [
    "for x in soup.find('div', id='event-listing').findAll('li'):\n",
    "    if x.find(class_='eventDate date'):\n",
    "        print(x.text.replace('/', '').strip())\n",
    "    if x.find(class_='event-item clearfix') or x.find(class_='event-item clearfix tickets-bkg-logo'):\n",
    "        print(x.find(class_='event-title').find('a').text)"
   ]
  },
  {
   "cell_type": "code",
   "execution_count": 96,
   "metadata": {},
   "outputs": [
    {
     "data": {
      "text/plain": [
       "<h1 class=\"event-title\" itemprop=\"summary\"><a href=\"/events/1430723\" itemprop=\"url\" title=\"Event details of Unter Baths: A Holiday Merch Drop\">Unter Baths: A Holiday Merch Drop</a> <span>at <span class=\"grey\" style=\"display:inline;\">Unter Baths</span></span></h1>"
      ]
     },
     "execution_count": 96,
     "metadata": {},
     "output_type": "execute_result"
    }
   ],
   "source": [
    "soup.find('div', id='event-listing').findAll('li')[1].find('h1')"
   ]
  },
  {
   "cell_type": "code",
   "execution_count": 97,
   "metadata": {
    "scrolled": true
   },
   "outputs": [
    {
     "data": {
      "text/plain": [
       "<span>at <span class=\"grey\" style=\"display:inline;\">Unter Baths</span></span>"
      ]
     },
     "execution_count": 97,
     "metadata": {},
     "output_type": "execute_result"
    }
   ],
   "source": [
    "soup.find('div', id='event-listing').findAll('li')[1].find('h1').find('span')"
   ]
  },
  {
   "cell_type": "code",
   "execution_count": 98,
   "metadata": {
    "scrolled": true
   },
   "outputs": [
    {
     "data": {
      "text/plain": [
       "'at Unter Baths'"
      ]
     },
     "execution_count": 98,
     "metadata": {},
     "output_type": "execute_result"
    }
   ],
   "source": [
    "soup.find('div', id='event-listing').findAll('li')[1].find('h1').find('span').text"
   ]
  },
  {
   "cell_type": "code",
   "execution_count": 99,
   "metadata": {},
   "outputs": [
    {
     "data": {
      "text/plain": [
       "'Unter Baths'"
      ]
     },
     "execution_count": 99,
     "metadata": {},
     "output_type": "execute_result"
    }
   ],
   "source": [
    "soup.find('div', id='event-listing').findAll('li')[1].find('h1').find('span').text.replace('at ', '').strip()"
   ]
  },
  {
   "cell_type": "code",
   "execution_count": 100,
   "metadata": {},
   "outputs": [
    {
     "name": "stdout",
     "output_type": "stream",
     "text": [
      "Wed, 25 Nov 2020\n",
      "Unter Baths: A Holiday Merch Drop\n",
      "Unter Baths\n",
      "Thu, 26 Nov 2020\n",
      "Unter Baths: A Holiday Merch Drop\n",
      "Unter Baths\n",
      "Fri, 27 Nov 2020\n",
      "Bugs Bunny Thanksgiving Secret Speakeasy \n",
      "The Museum of Interesting Things\n",
      "Unter Baths: A Holiday Merch Drop\n",
      "Unter Baths\n",
      "Whatever. - Sean Cormac & Chili Davis, Ruez\n",
      "TBA Brooklyn\n",
      "Sat, 28 Nov 2020\n",
      "NY Hip Hop vs Reggae® Synset Cruise Skyport Marina Cabana Yacht\n",
      "Skyport Marina\n",
      "White Rabbit - Desert Rabbit\n",
      "Secret Location\n",
      "Bugs Bunny Thanksgiving Secret Speakeasy \n",
      "The Museum of Interesting Things\n",
      "Unter Baths: A Holiday Merch Drop\n",
      "Unter Baths\n",
      "Sun, 29 Nov 2020\n",
      "Taj Lounge NYC Sunday Funday Hip Hop vs. Reggae® Brunch & Day Party\n",
      "Taj Lounge\n",
      "Mon, 30 Nov 2020\n",
      "Taj Lounge NYC Sunday Funday Hip Hop vs. Reggae® Brunch & Day Party\n",
      "Taj Lounge\n"
     ]
    }
   ],
   "source": [
    "for x in soup.find('div', id='event-listing').findAll('li'):\n",
    "    if x.find(class_='eventDate date'):\n",
    "        print(x.text.replace('/', '').strip())\n",
    "    if x.find(class_='event-item clearfix') or x.find(class_='event-item clearfix tickets-bkg-logo'):\n",
    "        print(x.find(class_='event-title').find('a').text)\n",
    "        print(x.find('h1').find('span').text.replace('at ', '').strip())"
   ]
  },
  {
   "cell_type": "code",
   "execution_count": 101,
   "metadata": {},
   "outputs": [
    {
     "data": {
      "text/plain": [
       "<p class=\"attending\"><span>1</span> Attending</p>"
      ]
     },
     "execution_count": 101,
     "metadata": {},
     "output_type": "execute_result"
    }
   ],
   "source": [
    "soup.find('div', id='event-listing').findAll('li')[1].find('p', class_='attending')"
   ]
  },
  {
   "cell_type": "code",
   "execution_count": 102,
   "metadata": {},
   "outputs": [
    {
     "data": {
      "text/plain": [
       "'1 Attending'"
      ]
     },
     "execution_count": 102,
     "metadata": {},
     "output_type": "execute_result"
    }
   ],
   "source": [
    "soup.find('div', id='event-listing').findAll('li')[1].find('p', class_='attending').text"
   ]
  },
  {
   "cell_type": "code",
   "execution_count": 103,
   "metadata": {},
   "outputs": [
    {
     "data": {
      "text/plain": [
       "'1'"
      ]
     },
     "execution_count": 103,
     "metadata": {},
     "output_type": "execute_result"
    }
   ],
   "source": [
    "soup.find('div', id='event-listing').findAll('li')[1].find('p', class_='attending').text.replace('Attending', '').strip()"
   ]
  },
  {
   "cell_type": "code",
   "execution_count": 104,
   "metadata": {},
   "outputs": [
    {
     "name": "stdout",
     "output_type": "stream",
     "text": [
      "Wed, 25 Nov 2020\n",
      "Unter Baths: A Holiday Merch Drop\n",
      "Unter Baths\n",
      "1\n",
      "Thu, 26 Nov 2020\n",
      "Unter Baths: A Holiday Merch Drop\n",
      "Unter Baths\n",
      "1\n",
      "Fri, 27 Nov 2020\n",
      "Bugs Bunny Thanksgiving Secret Speakeasy \n",
      "The Museum of Interesting Things\n",
      "2\n",
      "Unter Baths: A Holiday Merch Drop\n",
      "Unter Baths\n",
      "1\n",
      "Whatever. - Sean Cormac & Chili Davis, Ruez\n",
      "TBA Brooklyn\n",
      "1\n",
      "Sat, 28 Nov 2020\n",
      "NY Hip Hop vs Reggae® Synset Cruise Skyport Marina Cabana Yacht\n",
      "Skyport Marina\n",
      "1\n",
      "White Rabbit - Desert Rabbit\n",
      "Secret Location\n",
      "4\n",
      "Bugs Bunny Thanksgiving Secret Speakeasy \n",
      "The Museum of Interesting Things\n",
      "2\n",
      "Unter Baths: A Holiday Merch Drop\n",
      "Unter Baths\n",
      "1\n",
      "Sun, 29 Nov 2020\n",
      "Taj Lounge NYC Sunday Funday Hip Hop vs. Reggae® Brunch & Day Party\n",
      "Taj Lounge\n",
      "1\n",
      "Mon, 30 Nov 2020\n",
      "Taj Lounge NYC Sunday Funday Hip Hop vs. Reggae® Brunch & Day Party\n",
      "Taj Lounge\n",
      "1\n"
     ]
    }
   ],
   "source": [
    "for x in soup.find('div', id='event-listing').findAll('li'):\n",
    "    if x.find(class_='eventDate date'):\n",
    "        print(x.text.replace('/', '').strip())\n",
    "    if x.find(class_='event-item clearfix') or x.find(class_='event-item clearfix tickets-bkg-logo'):\n",
    "        print(x.find(class_='event-title').find('a').text)\n",
    "        print(x.find('h1').find('span').text.replace('at ', '').strip())\n",
    "        print(x.find('p', class_='attending').text.replace('Attending', '').strip())"
   ]
  },
  {
   "cell_type": "code",
   "execution_count": 105,
   "metadata": {},
   "outputs": [],
   "source": [
    "def scrape_events(events_page_url):\n",
    "    #Your code here\n",
    "    html_page = requests.get(events_page_url)\n",
    "    soup = BeautifulSoup(html_page.content, 'html.parser')\n",
    "    \n",
    "    name_list = []\n",
    "    venue_list = []\n",
    "    date_list = []\n",
    "    attendees_list = []\n",
    "    \n",
    "    for x in soup.find('div', id='event-listing').findAll('li'):\n",
    "        if x.find(class_='eventDate date'):\n",
    "            date = x.text.replace('/', '').strip()\n",
    "        elif x.find(class_='event-item clearfix') or x.find(class_='event-item clearfix tickets-bkg-logo'):\n",
    "            name_list.append(x.find(class_='event-title').find('a').text)\n",
    "            venue_list.append(x.find('h1').find('span').text.replace('at ', '').strip())\n",
    "            attendees_list.append(x.find('p', class_='attending').text.replace('Attending', '').strip())\n",
    "            date_list.append(date)\n",
    "\n",
    "    df = pd.DataFrame({'Event_Name': name_list,\n",
    "                     'Venue': venue_list,\n",
    "                     'Even_Date': date_list,\n",
    "                     'Number_of_Attendees': attendees_list})\n",
    "    \n",
    "    return df"
   ]
  },
  {
   "cell_type": "code",
   "execution_count": 147,
   "metadata": {},
   "outputs": [
    {
     "data": {
      "text/html": [
       "<div>\n",
       "<style scoped>\n",
       "    .dataframe tbody tr th:only-of-type {\n",
       "        vertical-align: middle;\n",
       "    }\n",
       "\n",
       "    .dataframe tbody tr th {\n",
       "        vertical-align: top;\n",
       "    }\n",
       "\n",
       "    .dataframe thead th {\n",
       "        text-align: right;\n",
       "    }\n",
       "</style>\n",
       "<table border=\"1\" class=\"dataframe\">\n",
       "  <thead>\n",
       "    <tr style=\"text-align: right;\">\n",
       "      <th></th>\n",
       "      <th>Event_Name</th>\n",
       "      <th>Venue</th>\n",
       "      <th>Even_Date</th>\n",
       "      <th>Number_of_Attendees</th>\n",
       "    </tr>\n",
       "  </thead>\n",
       "  <tbody>\n",
       "    <tr>\n",
       "      <th>0</th>\n",
       "      <td>Unter Baths: A Holiday Merch Drop</td>\n",
       "      <td>Unter Baths</td>\n",
       "      <td>Wed, 25 Nov 2020</td>\n",
       "      <td>1</td>\n",
       "    </tr>\n",
       "    <tr>\n",
       "      <th>1</th>\n",
       "      <td>Unter Baths: A Holiday Merch Drop</td>\n",
       "      <td>Unter Baths</td>\n",
       "      <td>Thu, 26 Nov 2020</td>\n",
       "      <td>1</td>\n",
       "    </tr>\n",
       "    <tr>\n",
       "      <th>2</th>\n",
       "      <td>Bugs Bunny Thanksgiving Secret Speakeasy</td>\n",
       "      <td>The Museum of Interesting Things</td>\n",
       "      <td>Fri, 27 Nov 2020</td>\n",
       "      <td>2</td>\n",
       "    </tr>\n",
       "    <tr>\n",
       "      <th>3</th>\n",
       "      <td>Unter Baths: A Holiday Merch Drop</td>\n",
       "      <td>Unter Baths</td>\n",
       "      <td>Fri, 27 Nov 2020</td>\n",
       "      <td>1</td>\n",
       "    </tr>\n",
       "    <tr>\n",
       "      <th>4</th>\n",
       "      <td>Whatever. - Sean Cormac &amp; Chili Davis, Ruez</td>\n",
       "      <td>TBA Brooklyn</td>\n",
       "      <td>Fri, 27 Nov 2020</td>\n",
       "      <td>1</td>\n",
       "    </tr>\n",
       "    <tr>\n",
       "      <th>5</th>\n",
       "      <td>NY Hip Hop vs Reggae® Synset Cruise Skyport Ma...</td>\n",
       "      <td>Skyport Marina</td>\n",
       "      <td>Sat, 28 Nov 2020</td>\n",
       "      <td>1</td>\n",
       "    </tr>\n",
       "    <tr>\n",
       "      <th>6</th>\n",
       "      <td>White Rabbit - Desert Rabbit</td>\n",
       "      <td>Secret Location</td>\n",
       "      <td>Sat, 28 Nov 2020</td>\n",
       "      <td>4</td>\n",
       "    </tr>\n",
       "    <tr>\n",
       "      <th>7</th>\n",
       "      <td>Bugs Bunny Thanksgiving Secret Speakeasy</td>\n",
       "      <td>The Museum of Interesting Things</td>\n",
       "      <td>Sat, 28 Nov 2020</td>\n",
       "      <td>2</td>\n",
       "    </tr>\n",
       "    <tr>\n",
       "      <th>8</th>\n",
       "      <td>Unter Baths: A Holiday Merch Drop</td>\n",
       "      <td>Unter Baths</td>\n",
       "      <td>Sat, 28 Nov 2020</td>\n",
       "      <td>1</td>\n",
       "    </tr>\n",
       "    <tr>\n",
       "      <th>9</th>\n",
       "      <td>Taj Lounge NYC Sunday Funday Hip Hop vs. Regga...</td>\n",
       "      <td>Taj Lounge</td>\n",
       "      <td>Sun, 29 Nov 2020</td>\n",
       "      <td>1</td>\n",
       "    </tr>\n",
       "    <tr>\n",
       "      <th>10</th>\n",
       "      <td>Taj Lounge NYC Sunday Funday Hip Hop vs. Regga...</td>\n",
       "      <td>Taj Lounge</td>\n",
       "      <td>Mon, 30 Nov 2020</td>\n",
       "      <td>1</td>\n",
       "    </tr>\n",
       "  </tbody>\n",
       "</table>\n",
       "</div>"
      ],
      "text/plain": [
       "                                           Event_Name  \\\n",
       "0                   Unter Baths: A Holiday Merch Drop   \n",
       "1                   Unter Baths: A Holiday Merch Drop   \n",
       "2           Bugs Bunny Thanksgiving Secret Speakeasy    \n",
       "3                   Unter Baths: A Holiday Merch Drop   \n",
       "4         Whatever. - Sean Cormac & Chili Davis, Ruez   \n",
       "5   NY Hip Hop vs Reggae® Synset Cruise Skyport Ma...   \n",
       "6                        White Rabbit - Desert Rabbit   \n",
       "7           Bugs Bunny Thanksgiving Secret Speakeasy    \n",
       "8                   Unter Baths: A Holiday Merch Drop   \n",
       "9   Taj Lounge NYC Sunday Funday Hip Hop vs. Regga...   \n",
       "10  Taj Lounge NYC Sunday Funday Hip Hop vs. Regga...   \n",
       "\n",
       "                               Venue         Even_Date Number_of_Attendees  \n",
       "0                        Unter Baths  Wed, 25 Nov 2020                   1  \n",
       "1                        Unter Baths  Thu, 26 Nov 2020                   1  \n",
       "2   The Museum of Interesting Things  Fri, 27 Nov 2020                   2  \n",
       "3                        Unter Baths  Fri, 27 Nov 2020                   1  \n",
       "4                       TBA Brooklyn  Fri, 27 Nov 2020                   1  \n",
       "5                     Skyport Marina  Sat, 28 Nov 2020                   1  \n",
       "6                    Secret Location  Sat, 28 Nov 2020                   4  \n",
       "7   The Museum of Interesting Things  Sat, 28 Nov 2020                   2  \n",
       "8                        Unter Baths  Sat, 28 Nov 2020                   1  \n",
       "9                         Taj Lounge  Sun, 29 Nov 2020                   1  \n",
       "10                        Taj Lounge  Mon, 30 Nov 2020                   1  "
      ]
     },
     "execution_count": 147,
     "metadata": {},
     "output_type": "execute_result"
    }
   ],
   "source": [
    "scrape_events('https://www.residentadvisor.net/events/us/newyork')"
   ]
  },
  {
   "cell_type": "markdown",
   "metadata": {},
   "source": [
    "## Write a Function to Retrieve the URL for the Next Page"
   ]
  },
  {
   "cell_type": "code",
   "execution_count": 148,
   "metadata": {},
   "outputs": [
    {
     "data": {
      "text/plain": [
       "<li class=\"but arrow-right right\" id=\"liNext\">\n",
       "<a ga-event-action=\"Next \" ga-event-category=\"event-listings\" ga-on=\"click\" href=\"/events/us/newyork/week/2020-12-02\">Next </a>\n",
       "</li>"
      ]
     },
     "execution_count": 148,
     "metadata": {},
     "output_type": "execute_result"
    }
   ],
   "source": [
    "soup.find('li', class_='but arrow-right right')"
   ]
  },
  {
   "cell_type": "code",
   "execution_count": 149,
   "metadata": {},
   "outputs": [
    {
     "data": {
      "text/plain": [
       "<a ga-event-action=\"Next \" ga-event-category=\"event-listings\" ga-on=\"click\" href=\"/events/us/newyork/week/2020-12-02\">Next </a>"
      ]
     },
     "execution_count": 149,
     "metadata": {},
     "output_type": "execute_result"
    }
   ],
   "source": [
    "soup.find('li', class_='but arrow-right right').find('a')"
   ]
  },
  {
   "cell_type": "code",
   "execution_count": 150,
   "metadata": {},
   "outputs": [
    {
     "data": {
      "text/plain": [
       "'/events/us/newyork/week/2020-12-02'"
      ]
     },
     "execution_count": 150,
     "metadata": {},
     "output_type": "execute_result"
    }
   ],
   "source": [
    "soup.find('li', class_='but arrow-right right').find('a')['href']"
   ]
  },
  {
   "cell_type": "code",
   "execution_count": 151,
   "metadata": {},
   "outputs": [
    {
     "data": {
      "text/plain": [
       "'https://www.residentadvisor.net/events/us/newyork/week/2020-12-02'"
      ]
     },
     "execution_count": 151,
     "metadata": {},
     "output_type": "execute_result"
    }
   ],
   "source": [
    "'https://www.residentadvisor.net' + soup.find('li', class_='but arrow-right right').find('a')['href']"
   ]
  },
  {
   "cell_type": "code",
   "execution_count": 152,
   "metadata": {},
   "outputs": [],
   "source": [
    "def next_page(url):\n",
    "    #Your code here\n",
    "    html_page = requests.get(url)\n",
    "    soup = BeautifulSoup(html_page.content, 'html.parser')\n",
    "    \n",
    "    back_of_url = soup.find('li', class_='but arrow-right right').find('a')['href']\n",
    "    next_page_url = 'https://www.residentadvisor.net' + back_of_url\n",
    "    return next_page_url"
   ]
  },
  {
   "cell_type": "code",
   "execution_count": 153,
   "metadata": {},
   "outputs": [
    {
     "data": {
      "text/plain": [
       "'https://www.residentadvisor.net/events/us/newyork/week/2020-12-02'"
      ]
     },
     "execution_count": 153,
     "metadata": {},
     "output_type": "execute_result"
    }
   ],
   "source": [
    "next_page('https://www.residentadvisor.net/events/us/newyork')"
   ]
  },
  {
   "cell_type": "markdown",
   "metadata": {},
   "source": [
    "## Scrape the Next 1000 Events for Your Area\n",
    "\n",
    "Display the data sorted by the number of attendees. If there is a tie for the number attending, sort by event date."
   ]
  },
  {
   "cell_type": "code",
   "execution_count": 167,
   "metadata": {},
   "outputs": [
    {
     "ename": "AttributeError",
     "evalue": "'NoneType' object has no attribute 'text'",
     "output_type": "error",
     "traceback": [
      "\u001b[0;31m---------------------------------------------------------------------------\u001b[0m",
      "\u001b[0;31mAttributeError\u001b[0m                            Traceback (most recent call last)",
      "\u001b[0;32m<ipython-input-167-118964ccc959>\u001b[0m in \u001b[0;36m<module>\u001b[0;34m\u001b[0m\n\u001b[1;32m      6\u001b[0m \u001b[0mcur_url\u001b[0m \u001b[0;34m=\u001b[0m \u001b[0;34m\"https://www.residentadvisor.net/events/us/newyork\"\u001b[0m\u001b[0;34m\u001b[0m\u001b[0;34m\u001b[0m\u001b[0m\n\u001b[1;32m      7\u001b[0m \u001b[0;32mwhile\u001b[0m \u001b[0mtotal_rows\u001b[0m \u001b[0;34m<=\u001b[0m \u001b[0;36m50\u001b[0m\u001b[0;34m:\u001b[0m\u001b[0;34m\u001b[0m\u001b[0;34m\u001b[0m\u001b[0m\n\u001b[0;32m----> 8\u001b[0;31m     \u001b[0mdf\u001b[0m \u001b[0;34m=\u001b[0m \u001b[0mscrape_events\u001b[0m\u001b[0;34m(\u001b[0m\u001b[0mcur_url\u001b[0m\u001b[0;34m)\u001b[0m\u001b[0;34m\u001b[0m\u001b[0;34m\u001b[0m\u001b[0m\n\u001b[0m\u001b[1;32m      9\u001b[0m     \u001b[0mdfs\u001b[0m\u001b[0;34m.\u001b[0m\u001b[0mappend\u001b[0m\u001b[0;34m(\u001b[0m\u001b[0mdf\u001b[0m\u001b[0;34m)\u001b[0m\u001b[0;34m\u001b[0m\u001b[0;34m\u001b[0m\u001b[0m\n\u001b[1;32m     10\u001b[0m     \u001b[0mtotal_rows\u001b[0m \u001b[0;34m+=\u001b[0m \u001b[0mlen\u001b[0m\u001b[0;34m(\u001b[0m\u001b[0mdf\u001b[0m\u001b[0;34m)\u001b[0m\u001b[0;34m\u001b[0m\u001b[0;34m\u001b[0m\u001b[0m\n",
      "\u001b[0;32m<ipython-input-105-3a0cccdae3e3>\u001b[0m in \u001b[0;36mscrape_events\u001b[0;34m(events_page_url)\u001b[0m\n\u001b[1;32m     15\u001b[0m             \u001b[0mname_list\u001b[0m\u001b[0;34m.\u001b[0m\u001b[0mappend\u001b[0m\u001b[0;34m(\u001b[0m\u001b[0mx\u001b[0m\u001b[0;34m.\u001b[0m\u001b[0mfind\u001b[0m\u001b[0;34m(\u001b[0m\u001b[0mclass_\u001b[0m\u001b[0;34m=\u001b[0m\u001b[0;34m'event-title'\u001b[0m\u001b[0;34m)\u001b[0m\u001b[0;34m.\u001b[0m\u001b[0mfind\u001b[0m\u001b[0;34m(\u001b[0m\u001b[0;34m'a'\u001b[0m\u001b[0;34m)\u001b[0m\u001b[0;34m.\u001b[0m\u001b[0mtext\u001b[0m\u001b[0;34m)\u001b[0m\u001b[0;34m\u001b[0m\u001b[0;34m\u001b[0m\u001b[0m\n\u001b[1;32m     16\u001b[0m             \u001b[0mvenue_list\u001b[0m\u001b[0;34m.\u001b[0m\u001b[0mappend\u001b[0m\u001b[0;34m(\u001b[0m\u001b[0mx\u001b[0m\u001b[0;34m.\u001b[0m\u001b[0mfind\u001b[0m\u001b[0;34m(\u001b[0m\u001b[0;34m'h1'\u001b[0m\u001b[0;34m)\u001b[0m\u001b[0;34m.\u001b[0m\u001b[0mfind\u001b[0m\u001b[0;34m(\u001b[0m\u001b[0;34m'span'\u001b[0m\u001b[0;34m)\u001b[0m\u001b[0;34m.\u001b[0m\u001b[0mtext\u001b[0m\u001b[0;34m.\u001b[0m\u001b[0mreplace\u001b[0m\u001b[0;34m(\u001b[0m\u001b[0;34m'at '\u001b[0m\u001b[0;34m,\u001b[0m \u001b[0;34m''\u001b[0m\u001b[0;34m)\u001b[0m\u001b[0;34m.\u001b[0m\u001b[0mstrip\u001b[0m\u001b[0;34m(\u001b[0m\u001b[0;34m)\u001b[0m\u001b[0;34m)\u001b[0m\u001b[0;34m\u001b[0m\u001b[0;34m\u001b[0m\u001b[0m\n\u001b[0;32m---> 17\u001b[0;31m             \u001b[0mattendees_list\u001b[0m\u001b[0;34m.\u001b[0m\u001b[0mappend\u001b[0m\u001b[0;34m(\u001b[0m\u001b[0mx\u001b[0m\u001b[0;34m.\u001b[0m\u001b[0mfind\u001b[0m\u001b[0;34m(\u001b[0m\u001b[0;34m'p'\u001b[0m\u001b[0;34m,\u001b[0m \u001b[0mclass_\u001b[0m\u001b[0;34m=\u001b[0m\u001b[0;34m'attending'\u001b[0m\u001b[0;34m)\u001b[0m\u001b[0;34m.\u001b[0m\u001b[0mtext\u001b[0m\u001b[0;34m.\u001b[0m\u001b[0mreplace\u001b[0m\u001b[0;34m(\u001b[0m\u001b[0;34m'Attending'\u001b[0m\u001b[0;34m,\u001b[0m \u001b[0;34m''\u001b[0m\u001b[0;34m)\u001b[0m\u001b[0;34m.\u001b[0m\u001b[0mstrip\u001b[0m\u001b[0;34m(\u001b[0m\u001b[0;34m)\u001b[0m\u001b[0;34m)\u001b[0m\u001b[0;34m\u001b[0m\u001b[0;34m\u001b[0m\u001b[0m\n\u001b[0m\u001b[1;32m     18\u001b[0m             \u001b[0mdate_list\u001b[0m\u001b[0;34m.\u001b[0m\u001b[0mappend\u001b[0m\u001b[0;34m(\u001b[0m\u001b[0mdate\u001b[0m\u001b[0;34m)\u001b[0m\u001b[0;34m\u001b[0m\u001b[0;34m\u001b[0m\u001b[0m\n\u001b[1;32m     19\u001b[0m \u001b[0;34m\u001b[0m\u001b[0m\n",
      "\u001b[0;31mAttributeError\u001b[0m: 'NoneType' object has no attribute 'text'"
     ]
    }
   ],
   "source": [
    "import time\n",
    "\n",
    "#Your code here\n",
    "dfs = []\n",
    "total_rows = 0\n",
    "cur_url = \"https://www.residentadvisor.net/events/us/newyork\"\n",
    "while total_rows <= 1000:\n",
    "    df = scrape_events(cur_url)\n",
    "    dfs.append(df)\n",
    "    total_rows += len(df)\n",
    "    cur_url = next_page(cur_url)\n",
    "    time.sleep(.2)\n",
    "    \n",
    "df = pd.concat(dfs)\n",
    "df = df.iloc[:1000]\n",
    "print(len(df))\n",
    "df.head()"
   ]
  },
  {
   "cell_type": "markdown",
   "metadata": {},
   "source": [
    "## Summary \n",
    "\n",
    "Congratulations! In this lab, you successfully developed a pipeline to scrape a website for concert event information!"
   ]
  }
 ],
 "metadata": {
  "kernelspec": {
   "display_name": "learn-env",
   "language": "python",
   "name": "learn-env"
  },
  "language_info": {
   "codemirror_mode": {
    "name": "ipython",
    "version": 3
   },
   "file_extension": ".py",
   "mimetype": "text/x-python",
   "name": "python",
   "nbconvert_exporter": "python",
   "pygments_lexer": "ipython3",
   "version": "3.6.9"
  }
 },
 "nbformat": 4,
 "nbformat_minor": 2
}
